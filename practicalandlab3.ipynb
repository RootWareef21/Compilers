{
 "cells": [
  {
   "cell_type": "code",
   "execution_count": 7,
   "id": "df4870f3",
   "metadata": {},
   "outputs": [
    {
     "name": "stdout",
     "output_type": "stream",
     "text": [
      "Search successful.\n"
     ]
    }
   ],
   "source": [
    "import re\n",
    "pattern = '^a...s$'\n",
    "\n",
    "test_string = 'abyss'\n",
    "result = re.match(pattern, test_string)\n",
    "if result:\n",
    "  print(\"Search successful.\")\n",
    "else:\n",
    "  print(\"Search unsuccessful.\")"
   ]
  },
  {
   "cell_type": "code",
   "execution_count": 8,
   "id": "8e56929f",
   "metadata": {},
   "outputs": [
    {
     "name": "stdout",
     "output_type": "stream",
     "text": [
      "['22', '98', '16']\n"
     ]
    }
   ],
   "source": [
    "import re \n",
    "\n",
    "string = 'hello 22 hi 98.Howdy 16'\n",
    "pattern = '\\d+'\n",
    "result = re.findall (pattern, string)\n",
    "print (result)"
   ]
  },
  {
   "cell_type": "code",
   "execution_count": 9,
   "id": "48e21eab",
   "metadata": {},
   "outputs": [
    {
     "name": "stdout",
     "output_type": "stream",
     "text": [
      "['Twelve:', ' Eighty nine:', '.']\n"
     ]
    }
   ],
   "source": [
    "import re \n",
    "\n",
    "string = 'Twelve:12 Eighty nine:89.'\n",
    "pattern = '\\d+'\n",
    "result = re.split(pattern, string)\n",
    "print (result)"
   ]
  },
  {
   "cell_type": "code",
   "execution_count": 11,
   "id": "7888aebb",
   "metadata": {},
   "outputs": [
    {
     "name": "stdout",
     "output_type": "stream",
     "text": [
      "['Twelve:', ' Eighty nine:', '.']\n"
     ]
    }
   ],
   "source": [
    "import re \n",
    "\n",
    "string = 'abc 12\\ de 23 \\n f45 6'\n",
    "pattern = '\\s+'\n",
    "replace = ''\n",
    "new_string = re.sub(pattern, replace,  string)\n",
    "print (result)"
   ]
  },
  {
   "cell_type": "code",
   "execution_count": 12,
   "id": "d87ccd8e",
   "metadata": {},
   "outputs": [
    {
     "name": "stdout",
     "output_type": "stream",
     "text": [
      "abc12\\de23f456\n"
     ]
    }
   ],
   "source": [
    "import re \n",
    "\n",
    "string = 'abc 12\\ de 23 \\n f45 6'\n",
    "pattern = '\\s+'\n",
    "replace = ''\n",
    "new_string = re.sub(pattern, replace,  string)\n",
    "print (new_string)"
   ]
  },
  {
   "cell_type": "code",
   "execution_count": 13,
   "id": "1584c566",
   "metadata": {},
   "outputs": [
    {
     "name": "stdout",
     "output_type": "stream",
     "text": [
      "('abc12\\\\de23f456', 5)\n"
     ]
    }
   ],
   "source": [
    "import re \n",
    "\n",
    "string = 'abc 12\\ de 23 \\n f45 6'\n",
    "pattern = '\\s+'\n",
    "replace = ''\n",
    "new_string = re.subn(pattern, replace,  string)\n",
    "print (new_string)"
   ]
  },
  {
   "cell_type": "code",
   "execution_count": 14,
   "id": "1d026475",
   "metadata": {},
   "outputs": [
    {
     "name": "stdout",
     "output_type": "stream",
     "text": [
      "pattern found inside the string\n"
     ]
    }
   ],
   "source": [
    "import re\n",
    "\n",
    "string = \"Python is fun\"\n",
    "match = re.search('\\APython', string)\n",
    "if match:\n",
    " print (\"pattern found inside the string\")\n",
    "else:\n",
    " print(\"pattern not found\")"
   ]
  },
  {
   "cell_type": "code",
   "execution_count": 16,
   "id": "ab8d9d89",
   "metadata": {},
   "outputs": [
    {
     "name": "stdout",
     "output_type": "stream",
     "text": [
      "801 35\n"
     ]
    }
   ],
   "source": [
    "import re\n",
    "string = \"39801 356, 2102 1111\"\n",
    "pattern = '(\\d{3} (\\d{2}))'\n",
    "match = re.search(pattern, string)\n",
    "if match:\n",
    " print(match.group())\n",
    "else:\n",
    " print(\"pattern not found\")"
   ]
  },
  {
   "cell_type": "code",
   "execution_count": 17,
   "id": "face5a40",
   "metadata": {},
   "outputs": [
    {
     "name": "stdout",
     "output_type": "stream",
     "text": [
      "Enter password: Wareef\n",
      "Password is weak and does not meet the requirements.\n"
     ]
    }
   ],
   "source": [
    "import re\n",
    "\n",
    "password = input(\"Enter password: \")\n",
    "\n",
    "# Define a regular expression pattern for a strong password\n",
    "pattern = \"^(?=.*[a-z])(?=.*[A-Z])(?=.*\\d)[a-zA-Z\\d]{8,}$\"\n",
    "\n",
    "# Use the re module to check if the password matches the pattern\n",
    "if re.match(pattern, password):\n",
    "    print(\"Password is strong and meets the requirements.\")\n",
    "else:\n",
    "    print(\"Password is weak and does not meet the requirements.\")\n"
   ]
  },
  {
   "cell_type": "code",
   "execution_count": null,
   "id": "8bf9899a",
   "metadata": {},
   "outputs": [],
   "source": []
  }
 ],
 "metadata": {
  "kernelspec": {
   "display_name": "Python 3 (ipykernel)",
   "language": "python",
   "name": "python3"
  },
  "language_info": {
   "codemirror_mode": {
    "name": "ipython",
    "version": 3
   },
   "file_extension": ".py",
   "mimetype": "text/x-python",
   "name": "python",
   "nbconvert_exporter": "python",
   "pygments_lexer": "ipython3",
   "version": "3.9.16"
  }
 },
 "nbformat": 4,
 "nbformat_minor": 5
}
