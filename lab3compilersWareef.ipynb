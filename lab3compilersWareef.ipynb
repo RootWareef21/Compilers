{
 "cells": [
  {
   "cell_type": "code",
   "execution_count": 1,
   "id": "3ef01479",
   "metadata": {},
   "outputs": [
    {
     "name": "stdout",
     "output_type": "stream",
     "text": [
      "Enter password: Wareef\n",
      "Password is weak and does not meet the requirements.\n"
     ]
    }
   ],
   "source": [
    "import re\n",
    "\n",
    "password = input(\"Enter password: \")\n",
    "\n",
    "# Define a regular expression pattern for a strong password\n",
    "pattern = \"^(?=.*[a-z])(?=.*[A-Z])(?=.*\\d)[a-zA-Z\\d]{8,}$\"\n",
    "\n",
    "# Use the re module to check if the password matches the pattern\n",
    "if re.match(pattern, password):\n",
    "    print(\"Password is strong and meets the requirements.\")\n",
    "else:\n",
    "    print(\"Password is weak and does not meet the requirements.\")\n"
   ]
  },
  {
   "cell_type": "code",
   "execution_count": null,
   "id": "42cdeb3b",
   "metadata": {},
   "outputs": [],
   "source": []
  }
 ],
 "metadata": {
  "kernelspec": {
   "display_name": "Python 3 (ipykernel)",
   "language": "python",
   "name": "python3"
  },
  "language_info": {
   "codemirror_mode": {
    "name": "ipython",
    "version": 3
   },
   "file_extension": ".py",
   "mimetype": "text/x-python",
   "name": "python",
   "nbconvert_exporter": "python",
   "pygments_lexer": "ipython3",
   "version": "3.9.16"
  }
 },
 "nbformat": 4,
 "nbformat_minor": 5
}
